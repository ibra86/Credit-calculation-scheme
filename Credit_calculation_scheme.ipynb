{
 "cells": [
  {
   "cell_type": "code",
   "execution_count": 1,
   "metadata": {},
   "outputs": [],
   "source": [
    "import pandas as pd\n",
    "import os\n",
    "from IPython.display import display\n",
    "import sys\n",
    "from tabulate import tabulate\n",
    "\n",
    "pd.set_option('mode.chained_assignment', None)"
   ]
  },
  {
   "cell_type": "code",
   "execution_count": 2,
   "metadata": {},
   "outputs": [],
   "source": [
    "initial_amount = 300\n",
    "months_to_distribute_initial_amount = 3\n",
    "term_months = 10\n",
    "credit_rate_yearly = 0.12\n",
    "total_time_in_months = 120\n",
    "total_time_in_months_test = 24\n",
    "\n",
    "credit_rate_monthly = credit_rate_yearly/12\n",
    "initial_payment = initial_amount/months_to_distribute_initial_amount"
   ]
  },
  {
   "cell_type": "code",
   "execution_count": 3,
   "metadata": {},
   "outputs": [
    {
     "name": "stdout",
     "output_type": "stream",
     "text": [
      "Available amount in the beginning of month:\n",
      "month_01: 300.00$\n",
      "month_02: 210.00$\n",
      "month_03: 130.00$\n",
      "month_04: 60.00$\n",
      "month_05: 36.00$\n",
      "month_06: 39.60$\n",
      "month_07: 43.56$\n",
      "month_08: 47.92$\n",
      "month_09: 52.71$\n",
      "month_10: 57.98$\n",
      "month_11: 63.78$\n",
      "month_12: 60.15$\n",
      "month_13: 56.17$\n",
      "month_14: 51.79$\n",
      "month_15: 50.96$\n",
      "month_16: 52.46$\n",
      "month_17: 100.96$\n",
      "month_18: 145.11$\n",
      "month_19: 184.46$\n",
      "month_20: 218.54$\n",
      "month_21: 246.83$\n",
      "month_22: 268.74$\n",
      "month_23: 284.63$\n",
      "month_24: 294.90$\n",
      "month_25: 300.00$\n"
     ]
    }
   ],
   "source": [
    "cl_dct = {}\n",
    "col_names_basic = [\"Term\",\"Amount_left\"]\n",
    "col_names_clients = [\"Paid\",\"Return_principal\",\"Return_interest\"]\n",
    "\n",
    "cl_data_ini = []\n",
    "for i in range(total_time_in_months_test+1):\n",
    "  cl_data_ini.append((\"m%02d\"%(i+1),None))\n",
    "df = pd.DataFrame(cl_data_ini,columns=col_names_basic)\n",
    "\n",
    "amount_left = initial_amount\n",
    "amount_available = [amount_left]\n",
    "print(\"Available amount in the beginning of month:\")\n",
    "print(\"month_%02d: %0.2f$\"%(1,amount_left))\n",
    "\n",
    "\n",
    "for clt in range(total_time_in_months_test):#-term_months):\n",
    "  client_number = clt+1\n",
    "  \n",
    "  cl_data_ini = []\n",
    "  if client_number <= total_time_in_months_test-term_months+1:\n",
    "    for i in range(total_time_in_months_test+1):\n",
    "      if i+1 < client_number:\n",
    "        cl_data_ini.append((\"m%02d\"%(i+1),None,0.0,0.0,0.0))\n",
    "      elif i+1 == client_number:\n",
    "        payment = initial_payment if initial_payment <= amount_left else amount_left\n",
    "        amount_left -= payment\n",
    "        return_principal = payment/term_months\n",
    "        principal_left = payment\n",
    "        cl_data_ini.append((\"m%02d\"%(i+1),amount_left,payment,0.0,0.0))\n",
    "\n",
    "      elif i < term_months + client_number:\n",
    "        cl_data_ini.append((\"m%02d\"%(i+1),None,0.0,return_principal,principal_left*credit_rate_monthly))\n",
    "        principal_left -= return_principal\n",
    "      else:\n",
    "        cl_data_ini.append((\"m%02d\"%(i+1),None,0.0,0.0,0.0))\n",
    "\n",
    "    df0 = pd.DataFrame(cl_data_ini,columns=col_names_basic + list(map(lambda x:x+\"_%02d\"%client_number,col_names_clients)))  \n",
    "    df0[col_names_basic[-1]][:client_number-1] = df[col_names_basic[-1]][:client_number-1]\n",
    "    df = df.drop(col_names_basic[-1],axis=1,).merge(df0,on=col_names_basic[0],sort=True)\n",
    "\n",
    "    cols = list(df)\n",
    "    cols.insert(1,cols.pop(cols.index(col_names_basic[-1])))\n",
    "    df = df[cols]\n",
    "    \n",
    "    amount_left += df.loc[client_number,[col for col in df if col.startswith(col_names_clients[1])]].sum()\n",
    "  else:\n",
    "    df[col_names_basic[-1]][client_number-1] = amount_left  \n",
    "    amount_left += df.loc[client_number,[col for col in df if col.startswith(col_names_clients[1])]].sum()\n",
    "    \n",
    "    df[col_names_basic[-1]][client_number] = amount_left\n",
    "    \n",
    "  amount_available.append(amount_left)\n",
    "  print(\"month_%02d: %0.2f$\"%(client_number+1,amount_left))\n",
    "  \n",
    "# display(df)\n",
    "df[\"Total_return_interest\"] = df[[col for col in df if col.startswith(col_names_clients[2])]].sum(axis=1)\n",
    "df[[\"Total_cumul_return_interest\"]] = df[[\"Total_return_interest\"]].cumsum()\n",
    "df[\"Amount_available\"] = amount_available\n",
    "\n",
    "df_result = df[[\"Term\"]+[col for col in df if col.startswith((\"Amount\",\"Total_\"))]]\n",
    "df_result = df_result[['Term','Amount_available', 'Amount_left', 'Total_return_interest', 'Total_cumul_return_interest']]\n"
   ]
  },
  {
   "cell_type": "code",
   "execution_count": 4,
   "metadata": {},
   "outputs": [
    {
     "name": "stdout",
     "output_type": "stream",
     "text": [
      "+----+--------+--------------------+---------------+-------------------------+-------------------------------+\n",
      "|    | Term   |   Amount_available |   Amount_left |   Total_return_interest |   Total_cumul_return_interest |\n",
      "|----+--------+--------------------+---------------+-------------------------+-------------------------------|\n",
      "|  0 | m01    |           300      |      200      |               0         |                        0      |\n",
      "|  1 | m02    |           210      |      110      |               1         |                        1      |\n",
      "|  2 | m03    |           130      |       30      |               1.9       |                        2.9    |\n",
      "|  3 | m04    |            60      |        0      |               2.7       |                        5.6    |\n",
      "|  4 | m05    |            36      |        0      |               3         |                        8.6    |\n",
      "|  5 | m06    |            39.6    |        0      |               3         |                       11.6    |\n",
      "|  6 | m07    |            43.56   |        0      |               3         |                       14.6    |\n",
      "|  7 | m08    |            47.916  |        0      |               3         |                       17.6    |\n",
      "|  8 | m09    |            52.7076 |        0      |               3         |                       20.6    |\n",
      "|  9 | m10    |            57.9784 |        0      |               3         |                       23.6    |\n",
      "| 10 | m11    |            63.7762 |        0      |               3         |                       26.6    |\n",
      "| 11 | m12    |            60.1538 |        0      |               3         |                       29.6    |\n",
      "| 12 | m13    |            56.1692 |        0      |               3         |                       32.6    |\n",
      "| 13 | m14    |            51.7861 |        0      |               3         |                       35.6    |\n",
      "| 14 | m15    |            50.9647 |        0      |               3         |                       38.6    |\n",
      "| 15 | m16    |            52.4612 |       52.4612 |               3         |                       41.6    |\n",
      "| 16 | m17    |           100.962  |      100.962  |               2.47539   |                       44.0754 |\n",
      "| 17 | m18    |           145.108  |      145.108  |               1.99038   |                       46.0658 |\n",
      "| 18 | m19    |           184.461  |      184.461  |               1.54892   |                       47.6147 |\n",
      "| 19 | m20    |           218.544  |      218.544  |               1.15539   |                       48.7701 |\n",
      "| 20 | m21    |           246.829  |      246.829  |               0.81456   |                       49.5846 |\n",
      "| 21 | m22    |           268.736  |      268.736  |               0.531709  |                       50.1163 |\n",
      "| 22 | m23    |           284.628  |      284.628  |               0.312636  |                       50.429  |\n",
      "| 23 | m24    |           294.904  |      294.904  |               0.153716  |                       50.5827 |\n",
      "| 24 | m25    |           300      |      300      |               0.0509647 |                       50.6337 |\n",
      "+----+--------+--------------------+---------------+-------------------------+-------------------------------+\n"
     ]
    }
   ],
   "source": [
    "print( tabulate(df_result, headers='keys', tablefmt='psql') )"
   ]
  },
  {
   "cell_type": "code",
   "execution_count": null,
   "metadata": {},
   "outputs": [],
   "source": []
  }
 ],
 "metadata": {
  "kernelspec": {
   "display_name": "Python 3",
   "language": "python",
   "name": "python3"
  },
  "varInspector": {
   "cols": {
    "lenName": 16,
    "lenType": 16,
    "lenVar": 40
   },
   "kernels_config": {
    "python": {
     "delete_cmd_postfix": "",
     "delete_cmd_prefix": "del ",
     "library": "var_list.py",
     "varRefreshCmd": "print(var_dic_list())"
    },
    "r": {
     "delete_cmd_postfix": ") ",
     "delete_cmd_prefix": "rm(",
     "library": "var_list.r",
     "varRefreshCmd": "cat(var_dic_list()) "
    }
   },
   "types_to_exclude": [
    "module",
    "function",
    "builtin_function_or_method",
    "instance",
    "_Feature"
   ],
   "window_display": false
  }
 },
 "nbformat": 4,
 "nbformat_minor": 2
}
